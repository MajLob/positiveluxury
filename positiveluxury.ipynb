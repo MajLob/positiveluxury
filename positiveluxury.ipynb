{
 "cells": [
  {
   "cell_type": "code",
   "execution_count": 1,
   "metadata": {},
   "outputs": [],
   "source": [
    "from bs4 import BeautifulSoup, SoupStrainer\n",
    "import requests\n",
    "import pandas as pd\n",
    "import json\n",
    "import os"
   ]
  },
  {
   "cell_type": "code",
   "execution_count": 2,
   "metadata": {},
   "outputs": [
    {
     "name": "stdout",
     "output_type": "stream",
     "text": [
      "[]\n"
     ]
    }
   ],
   "source": [
    "url = 'https://www.positiveluxury.com/our-members/'\n",
    "\n",
    "result = requests.get(url)\n",
    "soup = BeautifulSoup(result.text, 'html.parser')\n",
    "links = []\n",
    "\n",
    "company_links = soup.find_all('a', class_='searchandfilter__alphabet--title header-five')\n",
    "for i in company_links:\n",
    "    links.append(i['href'])\n",
    "\n",
    "company_names = []\n",
    "name = soup.find_all('span', class_='entry-title')\n",
    "for n in name:\n",
    "    company_names.append(n.text)\n",
    "print(links)\n",
    "\n",
    "\n"
   ]
  },
  {
   "cell_type": "code",
   "execution_count": 3,
   "metadata": {},
   "outputs": [],
   "source": [
    "all_companies = []\n",
    "for i in links:\n",
    "    result = requests.get(i)\n",
    "    soup = BeautifulSoup(result.text, 'html.parser')\n",
    "    description = soup.find_all('p', class_='default-text')\n",
    "    name = soup.find('h1', class_='header-one brand__headline-header').text\n",
    "    des = []\n",
    "    v=[]\n",
    "    k = []\n",
    "    for d in description:\n",
    "        des.append(d.text)\n",
    "\n",
    "\n",
    "    logo = soup.find_all('img', class_='brand__logo-img brand__logo-img--light')\n",
    "    for l in logo:\n",
    "        logolink = l['src']\n",
    "\n",
    "\n",
    "    tableq= soup.find_all('p', class_=\"brand__fast-facts-question\")\n",
    "    for t in tableq:\n",
    "        x = t.text.rstrip()\n",
    "        k.append(x)\n",
    "\n",
    "\n",
    "\n",
    "    table = soup.find_all('p', class_='brand__fast-facts-answer')\n",
    "    for t in table:\n",
    "        x = t.text\n",
    "        y = x.translate({ord(i): None for i in ' '})\n",
    "        z = y.replace('\\n', \"\")\n",
    "        v.append(z)\n",
    "\n",
    "    company_info = dict(zip(k, v))\n",
    "    \n",
    "    \n",
    "\n",
    "    if \"Established\" not in company_info:\n",
    "         company_info[\"Established\"] = None\n",
    "    \n",
    "    if \"Headquarters\" not in company_info:\n",
    "         company_info[\"Headquarters\"] = None\n",
    "        \n",
    "    if \"Employees\" not in company_info:\n",
    "         company_info[\"Employees\"] = None\n",
    "\n",
    "    if \"Categories\" not in company_info:\n",
    "         company_info[\"Categories\"] = None\n",
    "    \n",
    "    if \"Website\" not in company_info:\n",
    "         company_info[\"Website\"] = None\n",
    "\n",
    "    company_info[\"CompanyName\"] = name\n",
    "    company_info[\"Description\"] = des[1]\n",
    "    company_info[\"Logo\"] = logolink\n",
    "\n",
    "    print(company_info)\n",
    "\n",
    "\n",
    "    all_companies.append(company_info)\n",
    "\n",
    "    with open(r'C:\\Users\\majci\\OneDrive\\Pulpit\\positiveluxury.json', 'w', encoding='utf-8') as file:   \n",
    "                json.dump(all_companies, file, ensure_ascii=False, indent=4)"
   ]
  },
  {
   "cell_type": "code",
   "execution_count": 4,
   "metadata": {},
   "outputs": [
    {
     "name": "stdout",
     "output_type": "stream",
     "text": [
      "\n",
      "                                                                                    1983                                                                            \n"
     ]
    }
   ],
   "source": [
    "url = 'https://www.positiveluxury.com/our-members/calleija/'\n",
    "result = requests.get(url)\n",
    "soup = BeautifulSoup(result.text, 'html.parser')\n",
    "description = soup.find_all('p', class_='default-text')\n",
    "name = soup.find('h1', class_='header-one brand__headline-header').text\n",
    "des = []\n",
    "v=[]\n",
    "k = []\n",
    "for d in description:\n",
    "    des.append(d.text)\n",
    "\n",
    "\n",
    "logo = soup.find_all('img', class_='brand__logo-img brand__logo-img--light')\n",
    "for l in logo:\n",
    "    logolink = l['src']\n",
    "\n",
    "\n",
    "tableq= soup.find_all('p', class_=\"brand__fast-facts-question\")\n",
    "for t in tableq:\n",
    "    x = t.text.rstrip()\n",
    "    k.append(x)\n",
    "\n",
    "\n",
    "\n",
    "table = soup.find_all('p', class_='brand__fast-facts-answer')\n",
    "for t in table:\n",
    "    x = t.text\n",
    "    x.translate({ord(i): None for i in '\\n                                                                            '})\n",
    "    v.append(x)\n",
    "\n",
    "company_info = dict(zip(k, v))\n",
    "company_info[\"CompanyName\"] = name\n",
    "company_info[\"Description\"] = des[1]\n",
    "company_info[\"Logo\"] = logolink\n",
    "\n",
    "\n",
    "\n",
    "print(v[0])\n"
   ]
  }
 ],
 "metadata": {
  "kernelspec": {
   "display_name": "Python 3",
   "language": "python",
   "name": "python3"
  },
  "language_info": {
   "codemirror_mode": {
    "name": "ipython",
    "version": 3
   },
   "file_extension": ".py",
   "mimetype": "text/x-python",
   "name": "python",
   "nbconvert_exporter": "python",
   "pygments_lexer": "ipython3",
   "version": "3.11.0"
  },
  "orig_nbformat": 4
 },
 "nbformat": 4,
 "nbformat_minor": 2
}
